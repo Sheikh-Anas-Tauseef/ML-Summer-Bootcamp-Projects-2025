{
 "cells": [
  {
   "cell_type": "markdown",
   "id": "6b89d7d9-f4a2-4c7a-8ab7-f73776d80d06",
   "metadata": {},
   "source": [
    "### NumPy Array\n",
    "\n",
    "In this mini project, you are provided with a dataset representing the daily sales (in USD) of 6 different products recorded over a period of 10 consecutive days. Each day's sales are structured as a row in a 2D NumPy array, with each column corresponding to a specific product. The objective is to analyze this sales data using Python and NumPy by performing various operations such as calculating total and average sales, identifying trends, comparing product performance, and extracting useful insights to support data-driven decision-making.\n",
    "\n"
   ]
  },
  {
   "cell_type": "code",
   "execution_count": 1,
   "id": "6b462b6d-3316-4422-bb3c-4d90d75f4efe",
   "metadata": {},
   "outputs": [],
   "source": [
    "import numpy as np\n",
    "\n",
    "sales_data = np.array([\n",
    "    [200, 220, 250, 210, 180, 190],  # Day 1\n",
    "    [230, 240, 260, 200, 195, 205],  # Day 2\n",
    "    [210, 215, 255, 220, 185, 200],  # Day 3\n",
    "    [205, 225, 270, 215, 190, 195],  # Day 4\n",
    "    [215, 230, 265, 225, 200, 210],  # Day 5\n",
    "    [225, 235, 275, 230, 205, 215],  # Day 6\n",
    "    [235, 245, 280, 240, 210, 220],  # Day 7\n",
    "    [245, 255, 290, 250, 215, 225],  # Day 8\n",
    "    [255, 265, 300, 260, 220, 230],  # Day 9\n",
    "    [265, 275, 310, 270, 225, 235]   # Day 10\n",
    "])"
   ]
  },
  {
   "cell_type": "markdown",
   "id": "6d3e1d71-c61c-429b-9d38-5914b30d3527",
   "metadata": {},
   "source": [
    "#### Q1. Mathematical Operations\n",
    " *  a. Calculate the total sales per product over 10 days\n",
    " *  b. Calculate the average daily sales per product\n",
    " *  c. Increase each sale by a 5% commission using broadcasting\n",
    " *  d. Apply the square root to all sales values (for testing purposes)"
   ]
  },
  {
   "cell_type": "code",
   "execution_count": 2,
   "id": "57a263d8-dabb-4176-ae4d-17615b018cfe",
   "metadata": {},
   "outputs": [
    {
     "name": "stdout",
     "output_type": "stream",
     "text": [
      "Product 1 : $2285\n",
      "Product 2 : $2405\n",
      "Product 3 : $2755\n",
      "Product 4 : $2320\n",
      "Product 5 : $2025\n",
      "Product 6 : $2125\n"
     ]
    }
   ],
   "source": [
    "# a. Calculate the total sales per product over 10 days\n",
    "\n",
    "total_sales_per_product = np.sum(sales_data,axis=0)\n",
    "for i,total in enumerate(total_sales_per_product , start=1):\n",
    "    print(f\"Product {i} : ${total}\")"
   ]
  },
  {
   "cell_type": "code",
   "execution_count": 3,
   "id": "d4a5194d-ceed-4ef5-9c5a-7cbf5c63dfde",
   "metadata": {},
   "outputs": [
    {
     "name": "stdout",
     "output_type": "stream",
     "text": [
      "Product 1 : $228.5\n",
      "Product 2 : $240.5\n",
      "Product 3 : $275.5\n",
      "Product 4 : $232.0\n",
      "Product 5 : $202.5\n",
      "Product 6 : $212.5\n"
     ]
    }
   ],
   "source": [
    "# b. Calculate the average daily sales per product\n",
    "\n",
    "average_daily_sales_per_product = np.mean(sales_data,axis=0)\n",
    "for i,total in enumerate(average_daily_sales_per_product , start=1):\n",
    "    print(f\"Product {i} : ${total}\")"
   ]
  },
  {
   "cell_type": "code",
   "execution_count": 4,
   "id": "73d27180-37ae-4590-83a6-acf2d100d8d5",
   "metadata": {},
   "outputs": [
    {
     "name": "stdout",
     "output_type": "stream",
     "text": [
      "[[10.   11.   12.5  10.5   9.    9.5 ]\n",
      " [11.5  12.   13.   10.    9.75 10.25]\n",
      " [10.5  10.75 12.75 11.    9.25 10.  ]\n",
      " [10.25 11.25 13.5  10.75  9.5   9.75]\n",
      " [10.75 11.5  13.25 11.25 10.   10.5 ]\n",
      " [11.25 11.75 13.75 11.5  10.25 10.75]\n",
      " [11.75 12.25 14.   12.   10.5  11.  ]\n",
      " [12.25 12.75 14.5  12.5  10.75 11.25]\n",
      " [12.75 13.25 15.   13.   11.   11.5 ]\n",
      " [13.25 13.75 15.5  13.5  11.25 11.75]]\n"
     ]
    }
   ],
   "source": [
    "# c. Increase each sale by a 5% commission using broadcasting\n",
    "\n",
    "sales_with_commission = sales_data * 0.05\n",
    "print(sales_with_commission)"
   ]
  },
  {
   "cell_type": "code",
   "execution_count": 5,
   "id": "185792fa-a6ad-481a-a8f1-2535c33f2169",
   "metadata": {},
   "outputs": [
    {
     "name": "stdout",
     "output_type": "stream",
     "text": [
      "[[14.14 14.83 15.81 14.49 13.42 13.78]\n",
      " [15.17 15.49 16.12 14.14 13.96 14.32]\n",
      " [14.49 14.66 15.97 14.83 13.6  14.14]\n",
      " [14.32 15.   16.43 14.66 13.78 13.96]\n",
      " [14.66 15.17 16.28 15.   14.14 14.49]\n",
      " [15.   15.33 16.58 15.17 14.32 14.66]\n",
      " [15.33 15.65 16.73 15.49 14.49 14.83]\n",
      " [15.65 15.97 17.03 15.81 14.66 15.  ]\n",
      " [15.97 16.28 17.32 16.12 14.83 15.17]\n",
      " [16.28 16.58 17.61 16.43 15.   15.33]]\n"
     ]
    }
   ],
   "source": [
    "# d. Apply the square root to all sales values (for testing purposes)\n",
    "\n",
    "square_root_on_sales_values = np.round(np.sqrt(sales_data),2)\n",
    "print(square_root_on_sales_values)"
   ]
  },
  {
   "cell_type": "markdown",
   "id": "85336768-55ac-4942-8d96-48c2336b1ca2",
   "metadata": {},
   "source": [
    "#### Q2. Broadcasting Concepts\n",
    "* a. Create a 1D and using broadcasting.\n",
    "  bonus_array = np.array([10, 20, 15, 25, 30, 5]) add it to each day’s sales\n",
    "\n",
    "* b. Add a $50 flat bonus to each sale using broadcasting."
   ]
  },
  {
   "cell_type": "code",
   "execution_count": 6,
   "id": "abadd0c7-8568-4c1f-8c49-c69ecf9c7b10",
   "metadata": {},
   "outputs": [
    {
     "name": "stdout",
     "output_type": "stream",
     "text": [
      "[[210 240 265 235 210 195]\n",
      " [240 260 275 225 225 210]\n",
      " [220 235 270 245 215 205]\n",
      " [215 245 285 240 220 200]\n",
      " [225 250 280 250 230 215]\n",
      " [235 255 290 255 235 220]\n",
      " [245 265 295 265 240 225]\n",
      " [255 275 305 275 245 230]\n",
      " [265 285 315 285 250 235]\n",
      " [275 295 325 295 255 240]]\n"
     ]
    }
   ],
   "source": [
    "# a. Create a 1D and using broadcasting. bonus_array = np.array([10, 20, 15, 25, 30, 5]) add it to each day’s sales\n",
    "\n",
    "bonus_array = np.array([10, 20, 15, 25, 30, 5])\n",
    "\n",
    "sales_data_with_bonus = sales_data + bonus_array\n",
    "\n",
    "print(sales_data_with_bonus)"
   ]
  },
  {
   "cell_type": "code",
   "execution_count": 7,
   "id": "2d2fc8a6-4539-435f-8db0-9a4a7431461d",
   "metadata": {},
   "outputs": [
    {
     "name": "stdout",
     "output_type": "stream",
     "text": [
      "[[250 270 300 260 230 240]\n",
      " [280 290 310 250 245 255]\n",
      " [260 265 305 270 235 250]\n",
      " [255 275 320 265 240 245]\n",
      " [265 280 315 275 250 260]\n",
      " [275 285 325 280 255 265]\n",
      " [285 295 330 290 260 270]\n",
      " [295 305 340 300 265 275]\n",
      " [305 315 350 310 270 280]\n",
      " [315 325 360 320 275 285]]\n"
     ]
    }
   ],
   "source": [
    "# b. Add a $50 flat bonus to each sale using broadcasting.\n",
    "\n",
    "flat_bonus = sales_data + 50\n",
    "print(flat_bonus)"
   ]
  },
  {
   "cell_type": "markdown",
   "id": "3e1bc1f6-e93c-485c-bca3-b660e752f743",
   "metadata": {},
   "source": [
    "#### Q3. Statistical Analysis\n",
    "* a. Find the mean, median, variance, and standard deviation of the entire dataset.\n",
    "* b. Find the maximum and minimum sale value and calculate the range.\n",
    "* c. Calculate the interquartile range (IQR) of all values."
   ]
  },
  {
   "cell_type": "code",
   "execution_count": 8,
   "id": "79babb91-c3aa-42bb-a567-d19596fcd0a9",
   "metadata": {},
   "outputs": [
    {
     "name": "stdout",
     "output_type": "stream",
     "text": [
      "Mean :  231.92\n",
      "Median :  225.0\n",
      "Varience :  870.08\n",
      "Standard deviation :  29.5\n"
     ]
    }
   ],
   "source": [
    "# a. Find the mean, median, variance, and standard deviation of the entire dataset.\n",
    "\n",
    "mean=np.round(np.mean(sales_data),2)\n",
    "median=np.round(np.median(sales_data),2)\n",
    "varience=np.round(np.var(sales_data),2)\n",
    "standard_deviation=np.round(np.std(sales_data),2)\n",
    "\n",
    "print(\"Mean : \",mean)\n",
    "print(\"Median : \",median)\n",
    "print(\"Varience : \",varience)\n",
    "print(\"Standard deviation : \" ,standard_deviation)"
   ]
  },
  {
   "cell_type": "code",
   "execution_count": 9,
   "id": "64b14c74-6188-42cc-bfc8-477c83a25e86",
   "metadata": {},
   "outputs": [
    {
     "name": "stdout",
     "output_type": "stream",
     "text": [
      "Maximum :  310\n",
      "Minimum :  180\n",
      "Range :  130\n"
     ]
    }
   ],
   "source": [
    "# b. Find the maximum and minimum sale value and calculate the range.\n",
    "\n",
    "maximum = np.round(np.max(sales_data),2) \n",
    "minimum = np.round(np.min(sales_data),2)\n",
    "sale_range = np.round(maximum-minimum,2)\n",
    "\n",
    "print(\"Maximum : \" , maximum)\n",
    "print(\"Minimum : \" , minimum)\n",
    "print(\"Range : \" , sale_range)"
   ]
  },
  {
   "cell_type": "code",
   "execution_count": 10,
   "id": "1fbc6690-8a1d-4c92-94bc-a2f4bb662629",
   "metadata": {},
   "outputs": [
    {
     "name": "stdout",
     "output_type": "stream",
     "text": [
      "Q1 (25th percentile): 210.0\n",
      "Q3 (75th percentile): 255.0\n",
      "Interquartile Range (IQR): 45.0\n"
     ]
    }
   ],
   "source": [
    "# c. Calculate the interquartile range (IQR) of all values.\n",
    "\n",
    "# Flatten the 2D array to 1D for global IQR\n",
    "flat_sales = sales_data.flatten()\n",
    "\n",
    "# Calculate Q1 and Q3\n",
    "q1 = np.percentile(flat_sales, 25)\n",
    "q3 = np.percentile(flat_sales, 75)\n",
    "\n",
    "# Calculate IQR\n",
    "iqr = q3 - q1\n",
    "\n",
    "print(f\"Q1 (25th percentile): {q1}\")\n",
    "print(f\"Q3 (75th percentile): {q3}\")\n",
    "print(f\"Interquartile Range (IQR): {iqr}\")"
   ]
  },
  {
   "cell_type": "markdown",
   "id": "cdae2c6d-8c65-46ba-87e4-b4737eed3356",
   "metadata": {},
   "source": [
    "#### Q4. Logical & Comparison Operations\n",
    "* a. Identify and list all sales greater than $250.\n",
    "  \n",
    "* b. Replace all values greater than $300 with 300 (cap the max sale).\n",
    "\n",
    "  \n",
    "* c. Count how many times sales were between $200 and $250.\n",
    "\n",
    "  \n",
    "* d. Create a new array showing only the sales below the mean."
   ]
  },
  {
   "cell_type": "code",
   "execution_count": 11,
   "id": "55abb216-ab92-403c-855b-de4df476fef0",
   "metadata": {},
   "outputs": [
    {
     "name": "stdout",
     "output_type": "stream",
     "text": [
      "Sales Data Greater Then 250 : [260 255 270 265 275 280 255 290 255 265 300 260 265 275 310 270]\n"
     ]
    }
   ],
   "source": [
    "# a. Identify and list all sales greater than $250.\n",
    "\n",
    "sales_greater_then_250 = sales_data[sales_data>250]\n",
    "print(f\"Sales Data Greater Then 250 : {sales_greater_then_250}\")"
   ]
  },
  {
   "cell_type": "code",
   "execution_count": 12,
   "id": "519f0ca4-1b0a-461e-96ed-a28c3d5582b9",
   "metadata": {},
   "outputs": [
    {
     "name": "stdout",
     "output_type": "stream",
     "text": [
      "Sales data after capping values above $300: [[200 220 250 210 180 190]\n",
      " [230 240 260 200 195 205]\n",
      " [210 215 255 220 185 200]\n",
      " [205 225 270 215 190 195]\n",
      " [215 230 265 225 200 210]\n",
      " [225 235 275 230 205 215]\n",
      " [235 245 280 240 210 220]\n",
      " [245 255 290 250 215 225]\n",
      " [255 265 300 260 220 230]\n",
      " [265 275 300 270 225 235]]\n"
     ]
    }
   ],
   "source": [
    "# b. Replace all values greater than $300 with 300 (cap the max sale).\n",
    "\n",
    "sales_data[sales_data > 300] = 300\n",
    "\n",
    "print(f\"Sales data after capping values above $300: {sales_data}\")"
   ]
  },
  {
   "cell_type": "code",
   "execution_count": 13,
   "id": "f0384786-10d2-4bab-8c85-4def2f1c8563",
   "metadata": {},
   "outputs": [
    {
     "name": "stdout",
     "output_type": "stream",
     "text": [
      "The Count Of Sales Between 200 and 250 : 32 \n"
     ]
    }
   ],
   "source": [
    "# c. Count how many times sales were between 200 and 250.\n",
    "\n",
    "sales_count = np.count_nonzero((sales_data > 200) & (sales_data < 250))\n",
    "print(f\"The Count Of Sales Between 200 and 250 : {sales_count} \")"
   ]
  },
  {
   "cell_type": "code",
   "execution_count": 14,
   "id": "3dd05deb-8c98-4853-a253-6a217771816e",
   "metadata": {},
   "outputs": [
    {
     "name": "stdout",
     "output_type": "stream",
     "text": [
      "Sales Data lesser Then Mean : [200 220 210 180 190 230 200 195 205 210 215 220 185 200 205 225 215 190\n",
      " 195 215 230 225 200 210 225 230 205 215 210 220 215 225 220 230 225] \n"
     ]
    }
   ],
   "source": [
    "# d. Create a new array showing only the sales below the mean.\n",
    "\n",
    "sales_below_mean = sales_data[sales_data<np.mean(sales_data)]\n",
    "print(f\"Sales Data lesser Then Mean : {sales_below_mean} \")"
   ]
  },
  {
   "cell_type": "markdown",
   "id": "972a3b76-c018-49b8-a8b5-9227d9bcacd1",
   "metadata": {},
   "source": [
    "#### Q5. Searching, Sorting, and Final Summary\n",
    "* a. Sort the sales of Day 5 in ascending order.\n",
    "* b. Find the day (row index) with the highest total sales.\n",
    "* c. Calculate column-wise means (average per product).\n",
    "* d. Calculate row-wise means (average per day).\n",
    "* e. Print the overall average sales."
   ]
  },
  {
   "cell_type": "code",
   "execution_count": 15,
   "id": "fdde09e2-a815-4879-be70-9684ae38ba7d",
   "metadata": {},
   "outputs": [
    {
     "name": "stdout",
     "output_type": "stream",
     "text": [
      "Day 5 sales sorted in ascending order: [200 210 215 225 230 265]\n"
     ]
    }
   ],
   "source": [
    "# a. Sort the sales of Day 5 in ascending order.\n",
    "\n",
    "day5_sorted = np.sort(sales_data[4])\n",
    "\n",
    "print(f\"Day 5 sales sorted in ascending order: {day5_sorted}\")"
   ]
  },
  {
   "cell_type": "code",
   "execution_count": 16,
   "id": "355fbd0f-5530-4697-ab90-2057a49a8188",
   "metadata": {},
   "outputs": [
    {
     "name": "stdout",
     "output_type": "stream",
     "text": [
      "Day (row index) with the highest total sales : 50\n"
     ]
    }
   ],
   "source": [
    "# b. Find the day (row index) with the highest total sales.\n",
    "\n",
    "highest_row_index = np.argmax(sales_data)\n",
    "print(f\"Day (row index) with the highest total sales : {highest_row_index}\")"
   ]
  },
  {
   "cell_type": "code",
   "execution_count": 17,
   "id": "1ae42122-c365-49fa-a4e8-4168b508bbfb",
   "metadata": {},
   "outputs": [
    {
     "name": "stdout",
     "output_type": "stream",
     "text": [
      "Product 1 : $228.5\n",
      "Product 2 : $240.5\n",
      "Product 3 : $274.5\n",
      "Product 4 : $232.0\n",
      "Product 5 : $202.5\n",
      "Product 6 : $212.5\n"
     ]
    }
   ],
   "source": [
    "# c. Calculate column-wise means (average per product).\n",
    "\n",
    "average_column_wise_sales_per_product = np.mean(sales_data,axis=0)\n",
    "for i,total in enumerate(average_column_wise_sales_per_product , start=1):\n",
    "    print(f\"Product {i} : ${total}\")"
   ]
  },
  {
   "cell_type": "code",
   "execution_count": 18,
   "id": "d8dc57ba-fc08-4bc7-9c78-4c531a6bb140",
   "metadata": {},
   "outputs": [
    {
     "name": "stdout",
     "output_type": "stream",
     "text": [
      "Product 1 : $208.33\n",
      "Product 2 : $221.67\n",
      "Product 3 : $214.17\n",
      "Product 4 : $216.67\n",
      "Product 5 : $224.17\n",
      "Product 6 : $230.83\n",
      "Product 7 : $238.33\n",
      "Product 8 : $246.67\n",
      "Product 9 : $255.0\n",
      "Product 10 : $261.67\n"
     ]
    }
   ],
   "source": [
    "# d. Calculate row-wise means (average per day).\n",
    "\n",
    "average_column_wise_sales_per_product = np.round(np.mean(sales_data,axis=1),2)\n",
    "for i,total in enumerate(average_column_wise_sales_per_product , start=1):\n",
    "    print(f\"Product {i} : ${total}\")"
   ]
  },
  {
   "cell_type": "code",
   "execution_count": 19,
   "id": "63f818cd-e0fc-4568-b100-66a4c2eea4bf",
   "metadata": {},
   "outputs": [
    {
     "name": "stdout",
     "output_type": "stream",
     "text": [
      "Overall Average Sales : 232.0\n"
     ]
    }
   ],
   "source": [
    "# e. Print the overall average sales.\n",
    "\n",
    "overall_average_sales = np.round(np.mean(sales_data))\n",
    "print(f\"Overall Average Sales : {overall_average_sales}\")"
   ]
  },
  {
   "cell_type": "markdown",
   "id": "477a58c2-8776-467f-8580-d3ae41025d4c",
   "metadata": {},
   "source": [
    "#### Q6. Bonus\n",
    "* Create a function highlight_outliers(data) that returns all values 2 Standard Deviation above or below the mean."
   ]
  },
  {
   "cell_type": "code",
   "execution_count": 20,
   "id": "8445ce40-ad1a-45ad-bf62-5e6cd84a5c19",
   "metadata": {},
   "outputs": [
    {
     "data": {
      "text/plain": [
       "'Outliers : [290 300 300]'"
      ]
     },
     "execution_count": 20,
     "metadata": {},
     "output_type": "execute_result"
    }
   ],
   "source": [
    " def highlight_outliers(data):\n",
    "    mean = np.mean(data)\n",
    "    std_dev = np.std(data)\n",
    "    \n",
    "    # Define bounds for outliers\n",
    "    lower_bound = mean - 2 * std_dev\n",
    "    upper_bound = mean + 2 * std_dev\n",
    "    \n",
    "    # Return values outside the 2 standard deviation range\n",
    "    outliers = data[(data < lower_bound) | (data > upper_bound)]\n",
    "    return f\"Outliers : {outliers}\"\n",
    "\n",
    "highlight_outliers(sales_data)"
   ]
  },
  {
   "cell_type": "code",
   "execution_count": null,
   "id": "50280c4d-708b-44b3-8aad-84f93fb38afa",
   "metadata": {},
   "outputs": [],
   "source": []
  },
  {
   "cell_type": "code",
   "execution_count": null,
   "id": "ac777a42-da34-45be-bde1-7378608e6bf2",
   "metadata": {},
   "outputs": [],
   "source": []
  },
  {
   "cell_type": "code",
   "execution_count": null,
   "id": "2abc9a16-efe2-4dc1-a2ea-c4b0559f356e",
   "metadata": {},
   "outputs": [],
   "source": []
  }
 ],
 "metadata": {
  "kernelspec": {
   "display_name": "Python 3 (ipykernel)",
   "language": "python",
   "name": "python3"
  },
  "language_info": {
   "codemirror_mode": {
    "name": "ipython",
    "version": 3
   },
   "file_extension": ".py",
   "mimetype": "text/x-python",
   "name": "python",
   "nbconvert_exporter": "python",
   "pygments_lexer": "ipython3",
   "version": "3.12.2"
  }
 },
 "nbformat": 4,
 "nbformat_minor": 5
}
