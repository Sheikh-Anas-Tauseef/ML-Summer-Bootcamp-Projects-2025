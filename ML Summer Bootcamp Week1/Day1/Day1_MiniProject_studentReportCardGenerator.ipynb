{
 "cells": [
  {
   "cell_type": "markdown",
   "id": "29d185c9-6897-46ef-971b-1553c6957b36",
   "metadata": {},
   "source": [
    "# Student Report Card Generator\n",
    "• Take Input from the User (name and age)  \n",
    "• Take Input For 3 Subjects in a dictionary subject:marks (english, math, urdu)  \n",
    "• Define a Function to Calculate Average of all subjects together  \n",
    "\n",
    "• Grade Assignment using if/elif/else  \n",
    "Average Score Grade  \n",
    "* 80 or above A   \n",
    "* 60 to 79 B \n",
    "* 40 to 59 C \n",
    "* Below 40 F \n",
    "\n",
    "• Bonus give using lambda function (Ask the user: Add 5 bonus marks to all subjects? (yes/no))  \n",
    "• Write the Report to a File  \n",
    "Name: Ali  \n",
    "* Age: 20  \n",
    "* Math: 90  \n",
    "* English: 83  \n",
    "* Urdu: 95  \n",
    "* Average: 89.33  \n",
    "* Grade: A\n",
    "  \n",
    "• Read and Display the Report Card\n"
   ]
  },
  {
   "cell_type": "code",
   "execution_count": 1,
   "id": "9f6a9136-05c1-46a3-a9c7-7fa6c0220d48",
   "metadata": {},
   "outputs": [
    {
     "name": "stdin",
     "output_type": "stream",
     "text": [
      "Enter your name:  Muhammad Anas\n",
      "Enter your age:  19\n",
      "Enter marks for Math:  98\n",
      "Enter marks for English:  90\n",
      "Enter marks for Urdu:  81\n",
      "Add 5 bonus marks to all subjects? (yes/no):  no\n"
     ]
    },
    {
     "name": "stdout",
     "output_type": "stream",
     "text": [
      "\n",
      " Report Card Written to File.\n",
      "\n",
      " --- Report Card ---\n",
      "Name: Muhammad Anas\n",
      "Age: 19\n",
      "Math: 98.0\n",
      "English: 90.0\n",
      "Urdu: 81.0\n",
      "Average: 89.67\n",
      "Grade: A\n",
      "\n"
     ]
    }
   ],
   "source": [
    "def calculate_average(marks_dict):\n",
    "    return sum(marks_dict.values()) / len(marks_dict)\n",
    "\n",
    "def assign_grade(average):\n",
    "    if average >= 80:\n",
    "        return 'A'\n",
    "    elif average >= 60:\n",
    "        return 'B'\n",
    "    elif average >= 40:\n",
    "        return 'C'\n",
    "    else:\n",
    "        return 'F'\n",
    "\n",
    "name = input(\"Enter your name: \")\n",
    "age = int(input(\"Enter your age: \"))\n",
    "\n",
    "subjects = ['Math', 'English', 'Urdu']\n",
    "marks = {}\n",
    "for subject in subjects:\n",
    "    score = float(input(f\"Enter marks for {subject}: \"))\n",
    "    marks[subject] = score\n",
    "\n",
    "add_bonus = input(\"Add 5 bonus marks to all subjects? (yes/no): \").strip().lower()\n",
    "if add_bonus == 'yes':\n",
    "    bonus = lambda x: x + 5\n",
    "    marks = {subj: bonus(score) for subj, score in marks.items()}\n",
    "\n",
    "average_score = round(calculate_average(marks), 2)\n",
    "grade = assign_grade(average_score)\n",
    "\n",
    "filename = \"report_card.txt\"\n",
    "with open(filename, \"w\") as file:\n",
    "    file.write(f\"Name: {name}\\n\")\n",
    "    file.write(f\"Age: {age}\\n\")\n",
    "    for subject, score in marks.items():\n",
    "        file.write(f\"{subject}: {round(score, 2)}\\n\")\n",
    "    file.write(f\"Average: {average_score}\\n\")\n",
    "    file.write(f\"Grade: {grade}\\n\")\n",
    "\n",
    "print(\"\\n Report Card Written to File.\")\n",
    "\n",
    "\n",
    "print(\"\\n --- Report Card ---\")\n",
    "with open(filename, \"r\") as file:\n",
    "    print(file.read())\n"
   ]
  },
  {
   "cell_type": "code",
   "execution_count": null,
   "id": "98094c4e-02c0-4b13-be4f-6e853414b142",
   "metadata": {},
   "outputs": [],
   "source": []
  }
 ],
 "metadata": {
  "kernelspec": {
   "display_name": "Python 3 (ipykernel)",
   "language": "python",
   "name": "python3"
  },
  "language_info": {
   "codemirror_mode": {
    "name": "ipython",
    "version": 3
   },
   "file_extension": ".py",
   "mimetype": "text/x-python",
   "name": "python",
   "nbconvert_exporter": "python",
   "pygments_lexer": "ipython3",
   "version": "3.12.2"
  }
 },
 "nbformat": 4,
 "nbformat_minor": 5
}
