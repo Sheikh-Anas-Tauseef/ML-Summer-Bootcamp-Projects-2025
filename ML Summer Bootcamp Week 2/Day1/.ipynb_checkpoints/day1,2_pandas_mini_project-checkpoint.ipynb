{
 "cells": [
  {
   "cell_type": "markdown",
   "id": "54e1ad6e-457b-409a-be5d-92c33a0dda53",
   "metadata": {},
   "source": [
    "### Pandas Mini Project\n",
    "\n",
    "* Create a Pandas Series from seeing the Python Score column.\n",
    "\n",
    "* Display the mean Python score using the Series.\n",
    "\n",
    "* Load the project_scores.csv file into a DataFrame.\n",
    "\n",
    "* Show only the first 3 rows of the DataFrame.\n",
    "\n",
    "* Show only the Name and ML_Score columns.\n",
    "\n",
    "* Add a new column called Total Score which is the sum of Python, ML, and Al scores for each student.\n",
    "\n",
    "* Replace all missing (NaN) scores with 0.\n",
    "\n",
    "* Add a column Result with value:\n",
    "\n",
    "    * \"Pass if Total_5core 2 2408\n",
    "\n",
    "    * \"Fail otherwise\n",
    "\n",
    "* Display only students from the CS department who passed.\n",
    "\n",
    "* Sort the DataFrame by Total_Score in descending order.\n",
    "\n",
    "* Save the final cleaned DataFrame to a new file called final_results.csv"
   ]
  },
  {
   "cell_type": "code",
   "execution_count": 7,
   "id": "2e51ffa8-b227-4bb6-bab8-b855bf3e2521",
   "metadata": {},
   "outputs": [
    {
     "name": "stdout",
     "output_type": "stream",
     "text": [
      "0    85.0\n",
      "1    78.0\n",
      "2    92.0\n",
      "3     NaN\n",
      "4    69.0\n",
      "Name: Python_Score, dtype: float64\n"
     ]
    }
   ],
   "source": [
    "import pandas as pd\n",
    "\n",
    "#Create a Pandas Series from seeing the Python Score column.\n",
    "\n",
    "df = pd.read_csv('project_scores.csv')\n",
    "python_scores = df['Python_Score']\n",
    "\n",
    "print(python_scores)"
   ]
  },
  {
   "cell_type": "code",
   "execution_count": 11,
   "id": "22c982fc-5e71-4b52-8b4d-33da6ecb893e",
   "metadata": {},
   "outputs": [
    {
     "name": "stdout",
     "output_type": "stream",
     "text": [
      "Python Score Mean : 81.0\n"
     ]
    }
   ],
   "source": [
    "# Display the mean Python score using the Series.\n",
    "\n",
    "python_score_mean = python_scores.mean()\n",
    "\n",
    "print(f\"Python Score Mean : {python_score_mean}\")"
   ]
  },
  {
   "cell_type": "code",
   "execution_count": 18,
   "id": "07252559-44db-4c08-8362-2135484af860",
   "metadata": {},
   "outputs": [
    {
     "data": {
      "text/html": [
       "<div>\n",
       "<style scoped>\n",
       "    .dataframe tbody tr th:only-of-type {\n",
       "        vertical-align: middle;\n",
       "    }\n",
       "\n",
       "    .dataframe tbody tr th {\n",
       "        vertical-align: top;\n",
       "    }\n",
       "\n",
       "    .dataframe thead th {\n",
       "        text-align: right;\n",
       "    }\n",
       "</style>\n",
       "<table border=\"1\" class=\"dataframe\">\n",
       "  <thead>\n",
       "    <tr style=\"text-align: right;\">\n",
       "      <th></th>\n",
       "      <th>ID</th>\n",
       "      <th>Name</th>\n",
       "      <th>Department</th>\n",
       "      <th>Age</th>\n",
       "      <th>Python_Score</th>\n",
       "      <th>ML_Score</th>\n",
       "      <th>AI_Score</th>\n",
       "    </tr>\n",
       "  </thead>\n",
       "  <tbody>\n",
       "    <tr>\n",
       "      <th>0</th>\n",
       "      <td>101</td>\n",
       "      <td>Ayesha</td>\n",
       "      <td>CS</td>\n",
       "      <td>21</td>\n",
       "      <td>85.0</td>\n",
       "      <td>90.0</td>\n",
       "      <td>NaN</td>\n",
       "    </tr>\n",
       "    <tr>\n",
       "      <th>1</th>\n",
       "      <td>102</td>\n",
       "      <td>Ali</td>\n",
       "      <td>IT</td>\n",
       "      <td>22</td>\n",
       "      <td>78.0</td>\n",
       "      <td>NaN</td>\n",
       "      <td>88.0</td>\n",
       "    </tr>\n",
       "    <tr>\n",
       "      <th>2</th>\n",
       "      <td>103</td>\n",
       "      <td>Sara</td>\n",
       "      <td>CS</td>\n",
       "      <td>20</td>\n",
       "      <td>92.0</td>\n",
       "      <td>95.0</td>\n",
       "      <td>94.0</td>\n",
       "    </tr>\n",
       "    <tr>\n",
       "      <th>3</th>\n",
       "      <td>104</td>\n",
       "      <td>John</td>\n",
       "      <td>SE</td>\n",
       "      <td>23</td>\n",
       "      <td>NaN</td>\n",
       "      <td>88.0</td>\n",
       "      <td>84.0</td>\n",
       "    </tr>\n",
       "    <tr>\n",
       "      <th>4</th>\n",
       "      <td>105</td>\n",
       "      <td>Omer</td>\n",
       "      <td>CS</td>\n",
       "      <td>24</td>\n",
       "      <td>69.0</td>\n",
       "      <td>75.0</td>\n",
       "      <td>72.0</td>\n",
       "    </tr>\n",
       "  </tbody>\n",
       "</table>\n",
       "</div>"
      ],
      "text/plain": [
       "    ID    Name Department  Age  Python_Score  ML_Score  AI_Score\n",
       "0  101  Ayesha         CS   21          85.0      90.0       NaN\n",
       "1  102     Ali         IT   22          78.0       NaN      88.0\n",
       "2  103    Sara         CS   20          92.0      95.0      94.0\n",
       "3  104    John         SE   23           NaN      88.0      84.0\n",
       "4  105    Omer         CS   24          69.0      75.0      72.0"
      ]
     },
     "execution_count": 18,
     "metadata": {},
     "output_type": "execute_result"
    }
   ],
   "source": [
    "# Load the project_scores.csv file into a DataFrame.\n",
    "\n",
    "df = pd.read_csv('project_scores.csv')\n",
    "df"
   ]
  },
  {
   "cell_type": "code",
   "execution_count": 19,
   "id": "cd8e9b2a-8886-4e7b-aceb-ffdbf67b0d3b",
   "metadata": {},
   "outputs": [
    {
     "data": {
      "text/html": [
       "<div>\n",
       "<style scoped>\n",
       "    .dataframe tbody tr th:only-of-type {\n",
       "        vertical-align: middle;\n",
       "    }\n",
       "\n",
       "    .dataframe tbody tr th {\n",
       "        vertical-align: top;\n",
       "    }\n",
       "\n",
       "    .dataframe thead th {\n",
       "        text-align: right;\n",
       "    }\n",
       "</style>\n",
       "<table border=\"1\" class=\"dataframe\">\n",
       "  <thead>\n",
       "    <tr style=\"text-align: right;\">\n",
       "      <th></th>\n",
       "      <th>ID</th>\n",
       "      <th>Name</th>\n",
       "      <th>Department</th>\n",
       "      <th>Age</th>\n",
       "      <th>Python_Score</th>\n",
       "      <th>ML_Score</th>\n",
       "      <th>AI_Score</th>\n",
       "    </tr>\n",
       "  </thead>\n",
       "  <tbody>\n",
       "    <tr>\n",
       "      <th>0</th>\n",
       "      <td>101</td>\n",
       "      <td>Ayesha</td>\n",
       "      <td>CS</td>\n",
       "      <td>21</td>\n",
       "      <td>85.0</td>\n",
       "      <td>90.0</td>\n",
       "      <td>NaN</td>\n",
       "    </tr>\n",
       "    <tr>\n",
       "      <th>1</th>\n",
       "      <td>102</td>\n",
       "      <td>Ali</td>\n",
       "      <td>IT</td>\n",
       "      <td>22</td>\n",
       "      <td>78.0</td>\n",
       "      <td>NaN</td>\n",
       "      <td>88.0</td>\n",
       "    </tr>\n",
       "    <tr>\n",
       "      <th>2</th>\n",
       "      <td>103</td>\n",
       "      <td>Sara</td>\n",
       "      <td>CS</td>\n",
       "      <td>20</td>\n",
       "      <td>92.0</td>\n",
       "      <td>95.0</td>\n",
       "      <td>94.0</td>\n",
       "    </tr>\n",
       "  </tbody>\n",
       "</table>\n",
       "</div>"
      ],
      "text/plain": [
       "    ID    Name Department  Age  Python_Score  ML_Score  AI_Score\n",
       "0  101  Ayesha         CS   21          85.0      90.0       NaN\n",
       "1  102     Ali         IT   22          78.0       NaN      88.0\n",
       "2  103    Sara         CS   20          92.0      95.0      94.0"
      ]
     },
     "execution_count": 19,
     "metadata": {},
     "output_type": "execute_result"
    }
   ],
   "source": [
    "# Show only the first 3 rows of the DataFrame.\n",
    "\n",
    "df.head(3)"
   ]
  },
  {
   "cell_type": "code",
   "execution_count": 22,
   "id": "9f89a547-fe10-4303-ad40-5c9b5841fdb6",
   "metadata": {},
   "outputs": [
    {
     "name": "stdout",
     "output_type": "stream",
     "text": [
      "     Name  ML_Score\n",
      "0  Ayesha      90.0\n",
      "1     Ali       NaN\n",
      "2    Sara      95.0\n",
      "3    John      88.0\n",
      "4    Omer      75.0\n"
     ]
    }
   ],
   "source": [
    "# Show only the Name and ML_Score columns.\n",
    "\n",
    "selected_columns = df[['Name', 'ML_Score']]\n",
    "print(selected_columns)"
   ]
  },
  {
   "cell_type": "code",
   "execution_count": 23,
   "id": "bbc24bd4-739b-4c9a-b216-0c363fed080c",
   "metadata": {},
   "outputs": [
    {
     "name": "stdout",
     "output_type": "stream",
     "text": [
      "    ID    Name Department  Age  Python_Score  ML_Score  AI_Score  Total_Score\n",
      "0  101  Ayesha         CS   21          85.0      90.0       NaN          NaN\n",
      "1  102     Ali         IT   22          78.0       NaN      88.0          NaN\n",
      "2  103    Sara         CS   20          92.0      95.0      94.0        281.0\n",
      "3  104    John         SE   23           NaN      88.0      84.0          NaN\n",
      "4  105    Omer         CS   24          69.0      75.0      72.0        216.0\n"
     ]
    }
   ],
   "source": [
    "#Add a new column called Total Score which is the sum of Python, ML, and Al scores for each student.\n",
    "\n",
    "df['Total_Score'] = df['Python_Score'] + df['ML_Score'] + df['AI_Score']\n",
    "print(df.head())"
   ]
  },
  {
   "cell_type": "code",
   "execution_count": 24,
   "id": "1be8c4fb-71fe-427a-b9ca-50d39eb20998",
   "metadata": {},
   "outputs": [
    {
     "name": "stdout",
     "output_type": "stream",
     "text": [
      "    ID    Name Department  Age  Python_Score  ML_Score  AI_Score  Total_Score\n",
      "0  101  Ayesha         CS   21          85.0      90.0       0.0          0.0\n",
      "1  102     Ali         IT   22          78.0       0.0      88.0          0.0\n",
      "2  103    Sara         CS   20          92.0      95.0      94.0        281.0\n",
      "3  104    John         SE   23           0.0      88.0      84.0          0.0\n",
      "4  105    Omer         CS   24          69.0      75.0      72.0        216.0\n"
     ]
    }
   ],
   "source": [
    "# Replace all missing (NaN) scores with 0.\n",
    "\n",
    "df.fillna(0, inplace=True)\n",
    "print(df)"
   ]
  },
  {
   "cell_type": "code",
   "execution_count": 30,
   "id": "6813109a-fb35-4f1f-b4ea-55ba3741360a",
   "metadata": {},
   "outputs": [
    {
     "data": {
      "text/html": [
       "<div>\n",
       "<style scoped>\n",
       "    .dataframe tbody tr th:only-of-type {\n",
       "        vertical-align: middle;\n",
       "    }\n",
       "\n",
       "    .dataframe tbody tr th {\n",
       "        vertical-align: top;\n",
       "    }\n",
       "\n",
       "    .dataframe thead th {\n",
       "        text-align: right;\n",
       "    }\n",
       "</style>\n",
       "<table border=\"1\" class=\"dataframe\">\n",
       "  <thead>\n",
       "    <tr style=\"text-align: right;\">\n",
       "      <th></th>\n",
       "      <th>ID</th>\n",
       "      <th>Name</th>\n",
       "      <th>Department</th>\n",
       "      <th>Age</th>\n",
       "      <th>Python_Score</th>\n",
       "      <th>ML_Score</th>\n",
       "      <th>AI_Score</th>\n",
       "      <th>Total_Score</th>\n",
       "      <th>Result</th>\n",
       "    </tr>\n",
       "  </thead>\n",
       "  <tbody>\n",
       "    <tr>\n",
       "      <th>0</th>\n",
       "      <td>101</td>\n",
       "      <td>Ayesha</td>\n",
       "      <td>CS</td>\n",
       "      <td>21</td>\n",
       "      <td>85.0</td>\n",
       "      <td>90.0</td>\n",
       "      <td>0.0</td>\n",
       "      <td>0.0</td>\n",
       "      <td>Fail</td>\n",
       "    </tr>\n",
       "    <tr>\n",
       "      <th>1</th>\n",
       "      <td>102</td>\n",
       "      <td>Ali</td>\n",
       "      <td>IT</td>\n",
       "      <td>22</td>\n",
       "      <td>78.0</td>\n",
       "      <td>0.0</td>\n",
       "      <td>88.0</td>\n",
       "      <td>0.0</td>\n",
       "      <td>Fail</td>\n",
       "    </tr>\n",
       "    <tr>\n",
       "      <th>2</th>\n",
       "      <td>103</td>\n",
       "      <td>Sara</td>\n",
       "      <td>CS</td>\n",
       "      <td>20</td>\n",
       "      <td>92.0</td>\n",
       "      <td>95.0</td>\n",
       "      <td>94.0</td>\n",
       "      <td>281.0</td>\n",
       "      <td>Pass</td>\n",
       "    </tr>\n",
       "    <tr>\n",
       "      <th>3</th>\n",
       "      <td>104</td>\n",
       "      <td>John</td>\n",
       "      <td>SE</td>\n",
       "      <td>23</td>\n",
       "      <td>0.0</td>\n",
       "      <td>88.0</td>\n",
       "      <td>84.0</td>\n",
       "      <td>0.0</td>\n",
       "      <td>Fail</td>\n",
       "    </tr>\n",
       "    <tr>\n",
       "      <th>4</th>\n",
       "      <td>105</td>\n",
       "      <td>Omer</td>\n",
       "      <td>CS</td>\n",
       "      <td>24</td>\n",
       "      <td>69.0</td>\n",
       "      <td>75.0</td>\n",
       "      <td>72.0</td>\n",
       "      <td>216.0</td>\n",
       "      <td>Fail</td>\n",
       "    </tr>\n",
       "  </tbody>\n",
       "</table>\n",
       "</div>"
      ],
      "text/plain": [
       "    ID    Name Department  Age  Python_Score  ML_Score  AI_Score  Total_Score  \\\n",
       "0  101  Ayesha         CS   21          85.0      90.0       0.0          0.0   \n",
       "1  102     Ali         IT   22          78.0       0.0      88.0          0.0   \n",
       "2  103    Sara         CS   20          92.0      95.0      94.0        281.0   \n",
       "3  104    John         SE   23           0.0      88.0      84.0          0.0   \n",
       "4  105    Omer         CS   24          69.0      75.0      72.0        216.0   \n",
       "\n",
       "  Result  \n",
       "0   Fail  \n",
       "1   Fail  \n",
       "2   Pass  \n",
       "3   Fail  \n",
       "4   Fail  "
      ]
     },
     "execution_count": 30,
     "metadata": {},
     "output_type": "execute_result"
    }
   ],
   "source": [
    "# Add a column Result with value: \"Pass if Total_Score >= 2408 \"Fail otherwise\n",
    "import numpy as np\n",
    "\n",
    "df['Result'] = np.where(df['Total_Score'] >= 240, 'Pass', 'Fail')\n",
    "df.head()"
   ]
  },
  {
   "cell_type": "code",
   "execution_count": 41,
   "id": "0472a4d5-6675-4689-ab4d-c7bf3f9eb0e5",
   "metadata": {},
   "outputs": [
    {
     "data": {
      "text/html": [
       "<div>\n",
       "<style scoped>\n",
       "    .dataframe tbody tr th:only-of-type {\n",
       "        vertical-align: middle;\n",
       "    }\n",
       "\n",
       "    .dataframe tbody tr th {\n",
       "        vertical-align: top;\n",
       "    }\n",
       "\n",
       "    .dataframe thead th {\n",
       "        text-align: right;\n",
       "    }\n",
       "</style>\n",
       "<table border=\"1\" class=\"dataframe\">\n",
       "  <thead>\n",
       "    <tr style=\"text-align: right;\">\n",
       "      <th></th>\n",
       "      <th>ID</th>\n",
       "      <th>Name</th>\n",
       "      <th>Department</th>\n",
       "      <th>Age</th>\n",
       "      <th>Python_Score</th>\n",
       "      <th>ML_Score</th>\n",
       "      <th>AI_Score</th>\n",
       "      <th>Total_Score</th>\n",
       "      <th>Result</th>\n",
       "    </tr>\n",
       "  </thead>\n",
       "  <tbody>\n",
       "    <tr>\n",
       "      <th>2</th>\n",
       "      <td>103</td>\n",
       "      <td>Sara</td>\n",
       "      <td>CS</td>\n",
       "      <td>20</td>\n",
       "      <td>92.0</td>\n",
       "      <td>95.0</td>\n",
       "      <td>94.0</td>\n",
       "      <td>281.0</td>\n",
       "      <td>Pass</td>\n",
       "    </tr>\n",
       "  </tbody>\n",
       "</table>\n",
       "</div>"
      ],
      "text/plain": [
       "    ID  Name Department  Age  Python_Score  ML_Score  AI_Score  Total_Score  \\\n",
       "2  103  Sara         CS   20          92.0      95.0      94.0        281.0   \n",
       "\n",
       "  Result  \n",
       "2   Pass  "
      ]
     },
     "execution_count": 41,
     "metadata": {},
     "output_type": "execute_result"
    }
   ],
   "source": [
    "# Display only students from the CS department who passed.\n",
    "\n",
    "cs_dept_passed_std = df[(df['Department']=='CS') & (df['Result']=='Pass')]\n",
    "cs_dept_passed_std"
   ]
  },
  {
   "cell_type": "code",
   "execution_count": 42,
   "id": "b373df62-064b-4341-9875-78a6bc1145f8",
   "metadata": {},
   "outputs": [
    {
     "name": "stdout",
     "output_type": "stream",
     "text": [
      "    ID    Name Department  Age  Python_Score  ML_Score  AI_Score  Total_Score  \\\n",
      "2  103    Sara         CS   20          92.0      95.0      94.0        281.0   \n",
      "4  105    Omer         CS   24          69.0      75.0      72.0        216.0   \n",
      "0  101  Ayesha         CS   21          85.0      90.0       0.0          0.0   \n",
      "1  102     Ali         IT   22          78.0       0.0      88.0          0.0   \n",
      "3  104    John         SE   23           0.0      88.0      84.0          0.0   \n",
      "\n",
      "  Result  \n",
      "2   Pass  \n",
      "4   Fail  \n",
      "0   Fail  \n",
      "1   Fail  \n",
      "3   Fail  \n"
     ]
    }
   ],
   "source": [
    "# Sort the DataFrame by Total_Score in descending order.\n",
    "\n",
    "sorted_df = df.sort_values(by='Total_Score', ascending=False)\n",
    "print(sorted_df)"
   ]
  },
  {
   "cell_type": "code",
   "execution_count": 43,
   "id": "da93bcbe-5032-49a2-9a3c-1e1401951715",
   "metadata": {},
   "outputs": [],
   "source": [
    "# Save the final cleaned DataFrame to a new file called final_results.csv\n",
    "\n",
    "df.to_csv('final_results.csv', index=False)"
   ]
  },
  {
   "cell_type": "code",
   "execution_count": null,
   "id": "0b00e000-78c6-4754-8147-72140e8d62d4",
   "metadata": {},
   "outputs": [],
   "source": []
  }
 ],
 "metadata": {
  "kernelspec": {
   "display_name": "Python 3 (ipykernel)",
   "language": "python",
   "name": "python3"
  },
  "language_info": {
   "codemirror_mode": {
    "name": "ipython",
    "version": 3
   },
   "file_extension": ".py",
   "mimetype": "text/x-python",
   "name": "python",
   "nbconvert_exporter": "python",
   "pygments_lexer": "ipython3",
   "version": "3.12.2"
  }
 },
 "nbformat": 4,
 "nbformat_minor": 5
}
